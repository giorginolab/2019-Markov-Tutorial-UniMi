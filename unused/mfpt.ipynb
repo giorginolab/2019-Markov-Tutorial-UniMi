{
 "cells": [
  {
   "cell_type": "code",
   "execution_count": 1,
   "metadata": {},
   "outputs": [
    {
     "name": "stdout",
     "output_type": "stream",
     "text": [
      "IPython console for SymPy 1.3 (Python 3.6.8-64-bit) (ground types: gmpy)\n",
      "\n",
      "These commands were executed:\n",
      ">>> from __future__ import division\n",
      ">>> from sympy import *\n",
      ">>> x, y, z, t = symbols('x y z t')\n",
      ">>> k, m, n = symbols('k m n', integer=True)\n",
      ">>> f, g, h = symbols('f g h', cls=Function)\n",
      ">>> init_printing()\n",
      "\n",
      "Documentation can be found at http://docs.sympy.org/1.3/\n",
      "\n"
     ]
    }
   ],
   "source": [
    "from sympy import *\n",
    "init_session()"
   ]
  },
  {
   "cell_type": "code",
   "execution_count": 2,
   "metadata": {},
   "outputs": [
    {
     "data": {
      "image/png": "[encoded data removed]",
      "text/latex": [
       "$$\\left[\\begin{matrix}\\frac{3}{5} & \\frac{3}{10} & \\frac{1}{10}\\\\\\frac{1}{5} & \\frac{3}{10} & \\frac{1}{2}\\\\\\frac{2}{5} & \\frac{1}{10} & \\frac{1}{2}\\end{matrix}\\right]$$"
      ],
      "text/plain": [
       "⎡3/5  3/10  1/10⎤\n",
       "⎢               ⎥\n",
       "⎢1/5  3/10  1/2 ⎥\n",
       "⎢               ⎥\n",
       "⎣2/5  1/10  1/2 ⎦"
      ]
     },
     "execution_count": 2,
     "metadata": {},
     "output_type": "execute_result"
    }
   ],
   "source": [
    "P=Matrix([[6,3,1],\n",
    "          [2,3,5],\n",
    "          [4,1,5]])/10\n",
    "P"
   ]
  },
  {
   "cell_type": "markdown",
   "metadata": {},
   "source": [
    "# Manually\n",
    "\n",
    "http://cyber.sibsutis.ru:82/Monarev/docs/nauka/PROBABILITY/Grinstead%20C.M.,%20Snell%20J.L.%20Introduction%20to%20probability%20(free%20web%20draft,%201999)(565s).pdf\n"
   ]
  },
  {
   "cell_type": "code",
   "execution_count": 3,
   "metadata": {},
   "outputs": [
    {
     "data": {
      "text/latex": [
       "$$\\left ( T_{cr}, \\quad T_{sr}\\right )$$"
      ],
      "text/plain": [
       "(T_cr, Tₛᵣ)"
      ]
     },
     "execution_count": 3,
     "metadata": {},
     "output_type": "execute_result"
    }
   ],
   "source": [
    "var(\"T_cr T_sr\")"
   ]
  },
  {
   "cell_type": "code",
   "execution_count": 4,
   "metadata": {},
   "outputs": [],
   "source": [
    "eqns = [-10*T_cr + 5+2*(1+T_sr)+3*(1+T_cr),\n",
    "        -10*T_sr + 1+3*(1+T_cr)+6*(1+T_sr)]"
   ]
  },
  {
   "cell_type": "code",
   "execution_count": 5,
   "metadata": {},
   "outputs": [
    {
     "data": {
      "text/latex": [
       "$$\\left [ - 7 T_{cr} + 2 T_{sr} + 10, \\quad 3 T_{cr} - 4 T_{sr} + 10\\right ]$$"
      ],
      "text/plain": [
       "[-7⋅T_cr + 2⋅Tₛᵣ + 10, 3⋅T_cr - 4⋅Tₛᵣ + 10]"
      ]
     },
     "execution_count": 5,
     "metadata": {},
     "output_type": "execute_result"
    }
   ],
   "source": [
    "eqns"
   ]
  },
  {
   "cell_type": "code",
   "execution_count": 6,
   "metadata": {},
   "outputs": [
    {
     "data": {
      "text/latex": [
       "$$\\left \\{ T_{cr} : \\frac{30}{11}, \\quad T_{sr} : \\frac{50}{11}\\right \\}$$"
      ],
      "text/plain": [
       "⎧      30       50⎫\n",
       "⎨T_cr: ──, Tₛᵣ: ──⎬\n",
       "⎩      11       11⎭"
      ]
     },
     "execution_count": 6,
     "metadata": {},
     "output_type": "execute_result"
    }
   ],
   "source": [
    "solve(eqns)"
   ]
  },
  {
   "cell_type": "markdown",
   "metadata": {},
   "source": [
    "# Again with an absorbing state"
   ]
  },
  {
   "cell_type": "code",
   "execution_count": 7,
   "metadata": {},
   "outputs": [
    {
     "data": {
      "text/latex": [
       "$$\\left[\\begin{matrix}\\frac{3}{5} & \\frac{3}{10}\\\\\\frac{1}{5} & \\frac{3}{10}\\end{matrix}\\right]$$"
      ],
      "text/plain": [
       "⎡3/5  3/10⎤\n",
       "⎢         ⎥\n",
       "⎣1/5  3/10⎦"
      ]
     },
     "execution_count": 7,
     "metadata": {},
     "output_type": "execute_result"
    }
   ],
   "source": [
    "destination_state = 2\n",
    "\n",
    "Q=P[:,:]\n",
    "Q.col_del(destination_state)\n",
    "Q.row_del(destination_state)\n",
    "Q"
   ]
  },
  {
   "cell_type": "code",
   "execution_count": 8,
   "metadata": {},
   "outputs": [
    {
     "data": {
      "text/latex": [
       "$$\\left[\\begin{matrix}\\frac{35}{11} & \\frac{15}{11}\\\\\\frac{10}{11} & \\frac{20}{11}\\end{matrix}\\right]$$"
      ],
      "text/plain": [
       "⎡35  15⎤\n",
       "⎢──  ──⎥\n",
       "⎢11  11⎥\n",
       "⎢      ⎥\n",
       "⎢10  20⎥\n",
       "⎢──  ──⎥\n",
       "⎣11  11⎦"
      ]
     },
     "execution_count": 8,
     "metadata": {},
     "output_type": "execute_result"
    }
   ],
   "source": [
    "N=(eye(Q.shape[0])-Q)**-1\n",
    "N"
   ]
  },
  {
   "cell_type": "code",
   "execution_count": 9,
   "metadata": {},
   "outputs": [
    {
     "data": {
      "text/latex": [
       "$$\\left[\\begin{matrix}\\frac{50}{11}\\\\\\frac{30}{11}\\end{matrix}\\right]$$"
      ],
      "text/plain": [
       "⎡50⎤\n",
       "⎢──⎥\n",
       "⎢11⎥\n",
       "⎢  ⎥\n",
       "⎢30⎥\n",
       "⎢──⎥\n",
       "⎣11⎦"
      ]
     },
     "execution_count": 9,
     "metadata": {},
     "output_type": "execute_result"
    }
   ],
   "source": [
    "Nc = N * ones(Q.shape[0],1)\n",
    "Nc"
   ]
  },
  {
   "cell_type": "markdown",
   "metadata": {},
   "source": [
    "# General ergodic matrix"
   ]
  },
  {
   "cell_type": "code",
   "execution_count": 10,
   "metadata": {},
   "outputs": [
    {
     "data": {
      "text/latex": [
       "$$\\left[\\begin{matrix}0.4411772416 & 0.2352959488 & 0.3235268096\\\\0.4411739648 & 0.235292672 & 0.3235333632\\\\0.4411772416 & 0.235292672 & 0.3235300864\\end{matrix}\\right]$$"
      ],
      "text/plain": [
       "⎡0.4411772416  0.2352959488  0.3235268096⎤\n",
       "⎢                                        ⎥\n",
       "⎢0.4411739648  0.235292672   0.3235333632⎥\n",
       "⎢                                        ⎥\n",
       "⎣0.4411772416  0.235292672   0.3235300864⎦"
      ]
     },
     "execution_count": 10,
     "metadata": {},
     "output_type": "execute_result"
    }
   ],
   "source": [
    "import sympy\n",
    "sympy.N(P**10)"
   ]
  },
  {
   "cell_type": "code",
   "execution_count": 11,
   "metadata": {},
   "outputs": [],
   "source": [
    "d = P.shape[0]\n",
    "PT=P.T"
   ]
  },
  {
   "cell_type": "code",
   "execution_count": 12,
   "metadata": {},
   "outputs": [
    {
     "data": {
      "text/latex": [
       "$$\\left \\{ 1 : 1, \\quad \\frac{1}{5} - \\frac{i}{5} : 1, \\quad \\frac{1}{5} + \\frac{i}{5} : 1\\right \\}$$"
      ],
      "text/plain": [
       "⎧      1   ⅈ     1   ⅈ   ⎫\n",
       "⎨1: 1, ─ - ─: 1, ─ + ─: 1⎬\n",
       "⎩      5   5     5   5   ⎭"
      ]
     },
     "execution_count": 12,
     "metadata": {},
     "output_type": "execute_result"
    }
   ],
   "source": [
    "P.T.eigenvals()"
   ]
  },
  {
   "cell_type": "code",
   "execution_count": 13,
   "metadata": {},
   "outputs": [
    {
     "data": {
      "text/latex": [
       "$$\\left[\\begin{matrix}\\frac{15}{34}\\\\\\frac{4}{17}\\\\\\frac{11}{34}\\end{matrix}\\right]$$"
      ],
      "text/plain": [
       "⎡ 15 ⎤\n",
       "⎢ ── ⎥\n",
       "⎢ 34 ⎥\n",
       "⎢    ⎥\n",
       "⎢4/17⎥\n",
       "⎢    ⎥\n",
       "⎢ 11 ⎥\n",
       "⎢ ── ⎥\n",
       "⎣ 34 ⎦"
      ]
     },
     "execution_count": 13,
     "metadata": {},
     "output_type": "execute_result"
    }
   ],
   "source": [
    "# Extract eigenvector of eigenvalue == 1\n",
    "w = [x[2][0] for x in P.T.eigenvects() if x[0]==1]\n",
    "# Sum to 1\n",
    "w = w[0]/sum(w[0])\n",
    "w"
   ]
  },
  {
   "cell_type": "code",
   "execution_count": 14,
   "metadata": {},
   "outputs": [
    {
     "data": {
      "text/latex": [
       "$$\\left[\\begin{matrix}\\frac{15}{34} & \\frac{4}{17} & \\frac{11}{34}\\\\\\frac{15}{34} & \\frac{4}{17} & \\frac{11}{34}\\\\\\frac{15}{34} & \\frac{4}{17} & \\frac{11}{34}\\end{matrix}\\right]$$"
      ],
      "text/plain": [
       "⎡15        11⎤\n",
       "⎢──  4/17  ──⎥\n",
       "⎢34        34⎥\n",
       "⎢            ⎥\n",
       "⎢15        11⎥\n",
       "⎢──  4/17  ──⎥\n",
       "⎢34        34⎥\n",
       "⎢            ⎥\n",
       "⎢15        11⎥\n",
       "⎢──  4/17  ──⎥\n",
       "⎣34        34⎦"
      ]
     },
     "execution_count": 14,
     "metadata": {},
     "output_type": "execute_result"
    }
   ],
   "source": [
    "W = ones(d,1) * w.T\n",
    "W "
   ]
  },
  {
   "cell_type": "code",
   "execution_count": 15,
   "metadata": {},
   "outputs": [
    {
     "data": {
      "text/latex": [
       "$$\\left[\\begin{matrix}\\frac{143}{170} & - \\frac{11}{170} & \\frac{19}{85}\\\\\\frac{41}{170} & \\frac{159}{170} & - \\frac{3}{17}\\\\\\frac{7}{170} & \\frac{23}{170} & \\frac{14}{17}\\end{matrix}\\right]$$"
      ],
      "text/plain": [
       "⎡ 143   -11    19  ⎤\n",
       "⎢ ───   ────   ──  ⎥\n",
       "⎢ 170   170    85  ⎥\n",
       "⎢                  ⎥\n",
       "⎢  41   159        ⎥\n",
       "⎢ ───   ───   -3/17⎥\n",
       "⎢ 170   170        ⎥\n",
       "⎢                  ⎥\n",
       "⎢        23    14  ⎥\n",
       "⎢7/170  ───    ──  ⎥\n",
       "⎣       170    17  ⎦"
      ]
     },
     "execution_count": 15,
     "metadata": {},
     "output_type": "execute_result"
    }
   ],
   "source": [
    "(eye(d)-P+W)"
   ]
  },
  {
   "cell_type": "code",
   "execution_count": 16,
   "metadata": {},
   "outputs": [
    {
     "data": {
      "text/latex": [
       "$$\\left[\\begin{matrix}\\frac{675}{578} & \\frac{71}{578} & - \\frac{84}{289}\\\\- \\frac{175}{578} & \\frac{581}{578} & \\frac{86}{289}\\\\- \\frac{5}{578} & - \\frac{99}{578} & \\frac{341}{289}\\end{matrix}\\right]$$"
      ],
      "text/plain": [
       "⎡ 675     71   -84 ⎤\n",
       "⎢ ───    ───   ────⎥\n",
       "⎢ 578    578   289 ⎥\n",
       "⎢                  ⎥\n",
       "⎢-175    581    86 ⎥\n",
       "⎢─────   ───   ─── ⎥\n",
       "⎢ 578    578   289 ⎥\n",
       "⎢                  ⎥\n",
       "⎢        -99   341 ⎥\n",
       "⎢-5/578  ────  ─── ⎥\n",
       "⎣        578   289 ⎦"
      ]
     },
     "execution_count": 16,
     "metadata": {},
     "output_type": "execute_result"
    }
   ],
   "source": [
    "Z = (eye(d)-P+W)**-1\n",
    "Z"
   ]
  },
  {
   "cell_type": "code",
   "execution_count": 17,
   "metadata": {},
   "outputs": [],
   "source": [
    "def buildM(Z,w):\n",
    "    d = Z.shape[0]\n",
    "    M = zeros(d)\n",
    "    for i in range(d):\n",
    "        for j in range(d):\n",
    "            M[i,j] = (Z[j,j]-Z[i,j])/w[j]\n",
    "    return(M)"
   ]
  },
  {
   "cell_type": "code",
   "execution_count": 18,
   "metadata": {},
   "outputs": [
    {
     "data": {
      "text/latex": [
       "$$\\left[\\begin{matrix}0 & \\frac{15}{4} & \\frac{50}{11}\\\\\\frac{10}{3} & 0 & \\frac{30}{11}\\\\\\frac{8}{3} & 5 & 0\\end{matrix}\\right]$$"
      ],
      "text/plain": [
       "⎡            50⎤\n",
       "⎢ 0    15/4  ──⎥\n",
       "⎢            11⎥\n",
       "⎢              ⎥\n",
       "⎢            30⎥\n",
       "⎢10/3   0    ──⎥\n",
       "⎢            11⎥\n",
       "⎢              ⎥\n",
       "⎣8/3    5    0 ⎦"
      ]
     },
     "execution_count": 18,
     "metadata": {},
     "output_type": "execute_result"
    }
   ],
   "source": [
    "buildM(Z,w)"
   ]
  },
  {
   "cell_type": "markdown",
   "metadata": {},
   "source": [
    "# Oz"
   ]
  },
  {
   "cell_type": "code",
   "execution_count": 19,
   "metadata": {},
   "outputs": [
    {
     "data": {
      "text/latex": [
       "$$\\left[\\begin{matrix}\\frac{1}{2} & \\frac{1}{4} & \\frac{1}{4}\\\\\\frac{1}{2} & 0 & \\frac{1}{2}\\\\\\frac{1}{4} & \\frac{1}{4} & \\frac{1}{2}\\end{matrix}\\right]$$"
      ],
      "text/plain": [
       "⎡1/2  1/4  1/4⎤\n",
       "⎢             ⎥\n",
       "⎢1/2   0   1/2⎥\n",
       "⎢             ⎥\n",
       "⎣1/4  1/4  1/2⎦"
      ]
     },
     "execution_count": 19,
     "metadata": {},
     "output_type": "execute_result"
    }
   ],
   "source": [
    "Poz = Matrix([[2,1,1],\n",
    "              [2,0,2],\n",
    "              [1,1,2]])/4\n",
    "Poz"
   ]
  },
  {
   "cell_type": "markdown",
   "metadata": {},
   "source": [
    "# As functions"
   ]
  },
  {
   "cell_type": "code",
   "execution_count": 20,
   "metadata": {},
   "outputs": [],
   "source": [
    "def mfpt_to(P,destination_state):\n",
    "    Q=P[:,:]\n",
    "    Q.col_del(destination_state)\n",
    "    Q.row_del(destination_state)\n",
    "    N=(eye(Q.shape[0])-Q)**-1\n",
    "    Nc = N * ones(Q.shape[0],1)\n",
    "    return(Nc)"
   ]
  },
  {
   "cell_type": "code",
   "execution_count": 21,
   "metadata": {},
   "outputs": [
    {
     "data": {
      "text/latex": [
       "$$\\left[\\begin{matrix}\\frac{50}{11}\\\\\\frac{30}{11}\\end{matrix}\\right]$$"
      ],
      "text/plain": [
       "⎡50⎤\n",
       "⎢──⎥\n",
       "⎢11⎥\n",
       "⎢  ⎥\n",
       "⎢30⎥\n",
       "⎢──⎥\n",
       "⎣11⎦"
      ]
     },
     "execution_count": 21,
     "metadata": {},
     "output_type": "execute_result"
    }
   ],
   "source": [
    "mfpt_to(P,2)"
   ]
  },
  {
   "cell_type": "code",
   "execution_count": 8,
   "metadata": {},
   "outputs": [],
   "source": [
    "def stationary_state(P):\n",
    "    d = P.shape[0]\n",
    "    w = [x[2][0] for x in P.T.eigenvects() if x[0]==1]\n",
    "    if len(w)==0:\n",
    "        raise Exception(\"No eigenvalue 1. Matrix not ergodic?\")\n",
    "    elif len(w)!=1:\n",
    "        raise Exception(\"Eigenvalue 1 multiplicity > 1. Not irreducible?\")\n",
    "    # Sum to 1\n",
    "    w = w[0]/sum(w[0])\n",
    "    return(w)\n",
    "\n",
    "def fundamental_matrix(P):\n",
    "    d = P.shape[0]\n",
    "    w = stationary_state(P)\n",
    "    W = ones(d,1) * w.T\n",
    "    Z = (eye(d)-P+W)**-1\n",
    "    return(Z)\n",
    "\n",
    "\n",
    "def mfpt_full(P):\n",
    "    d = P.shape[0]\n",
    "    w = stationary_state(P)\n",
    "    Z = fundamental_matrix(P)\n",
    "    M = zeros(d)\n",
    "    for i in range(d):\n",
    "        for j in range(d):\n",
    "            M[i,j] = (Z[j,j]-Z[i,j])/w[j]\n",
    "    return(M)\n",
    "    "
   ]
  },
  {
   "cell_type": "code",
   "execution_count": 23,
   "metadata": {},
   "outputs": [
    {
     "data": {
      "text/latex": [
       "$$\\left[\\begin{matrix}0 & \\frac{15}{4} & \\frac{50}{11}\\\\\\frac{10}{3} & 0 & \\frac{30}{11}\\\\\\frac{8}{3} & 5 & 0\\end{matrix}\\right]$$"
      ],
      "text/plain": [
       "⎡            50⎤\n",
       "⎢ 0    15/4  ──⎥\n",
       "⎢            11⎥\n",
       "⎢              ⎥\n",
       "⎢            30⎥\n",
       "⎢10/3   0    ──⎥\n",
       "⎢            11⎥\n",
       "⎢              ⎥\n",
       "⎣8/3    5    0 ⎦"
      ]
     },
     "execution_count": 23,
     "metadata": {},
     "output_type": "execute_result"
    }
   ],
   "source": [
    "mfpt_full(P)"
   ]
  },
  {
   "cell_type": "code",
   "execution_count": 24,
   "metadata": {},
   "outputs": [
    {
     "data": {
      "text/latex": [
       "$$\\left[\\begin{matrix}0 & 3.75 & 4.54545454545454\\\\3.33333333333333 & 0 & 2.72727272727273\\\\2.66666666666667 & 5.0 & 0\\end{matrix}\\right]$$"
      ],
      "text/plain": [
       "⎡       0          3.75  4.54545454545454⎤\n",
       "⎢                                        ⎥\n",
       "⎢3.33333333333333   0    2.72727272727273⎥\n",
       "⎢                                        ⎥\n",
       "⎣2.66666666666667  5.0          0        ⎦"
      ]
     },
     "execution_count": 24,
     "metadata": {},
     "output_type": "execute_result"
    }
   ],
   "source": [
    "sympy.N(mfpt_full(P))"
   ]
  },
  {
   "cell_type": "code",
   "execution_count": 25,
   "metadata": {},
   "outputs": [
    {
     "data": {
      "text/latex": [
       "$$\\left[\\begin{matrix}0 & 4 & \\frac{10}{3}\\\\\\frac{8}{3} & 0 & \\frac{8}{3}\\\\\\frac{10}{3} & 4 & 0\\end{matrix}\\right]$$"
      ],
      "text/plain": [
       "⎡ 0    4  10/3⎤\n",
       "⎢             ⎥\n",
       "⎢8/3   0  8/3 ⎥\n",
       "⎢             ⎥\n",
       "⎣10/3  4   0  ⎦"
      ]
     },
     "execution_count": 25,
     "metadata": {},
     "output_type": "execute_result"
    }
   ],
   "source": [
    "mfpt_full(Poz)"
   ]
  },
  {
   "cell_type": "code",
   "execution_count": 26,
   "metadata": {},
   "outputs": [
    {
     "data": {
      "text/latex": [
       "$$\\left[\\begin{matrix}0 & 4.0 & 3.33333333333333\\\\2.66666666666667 & 0 & 2.66666666666667\\\\3.33333333333333 & 4.0 & 0\\end{matrix}\\right]$$"
      ],
      "text/plain": [
       "⎡       0          4.0  3.33333333333333⎤\n",
       "⎢                                       ⎥\n",
       "⎢2.66666666666667   0   2.66666666666667⎥\n",
       "⎢                                       ⎥\n",
       "⎣3.33333333333333  4.0         0        ⎦"
      ]
     },
     "execution_count": 26,
     "metadata": {},
     "output_type": "execute_result"
    }
   ],
   "source": [
    "sympy.N(mfpt_full(Poz))"
   ]
  },
  {
   "cell_type": "markdown",
   "metadata": {},
   "source": [
    "## Maze"
   ]
  },
  {
   "cell_type": "code",
   "execution_count": 27,
   "metadata": {},
   "outputs": [
    {
     "data": {
      "text/latex": [
       "$$\\left[\\begin{matrix}0 & \\frac{1}{2} & 0 & 0 & 0 & \\frac{1}{2} & 0 & 0 & 0\\\\\\frac{1}{3} & 0 & \\frac{1}{3} & 0 & \\frac{1}{3} & 0 & 0 & 0 & 0\\\\0 & \\frac{1}{2} & 0 & \\frac{1}{2} & 0 & 0 & 0 & 0 & 0\\\\0 & 0 & \\frac{1}{3} & 0 & \\frac{1}{3} & 0 & 0 & 0 & \\frac{1}{3}\\\\0 & \\frac{1}{4} & 0 & \\frac{1}{4} & 0 & \\frac{1}{4} & 0 & \\frac{1}{4} & 0\\\\\\frac{1}{3} & 0 & 0 & 0 & \\frac{1}{3} & 0 & \\frac{1}{3} & 0 & 0\\\\0 & 0 & 0 & 0 & 0 & \\frac{1}{2} & 0 & \\frac{1}{2} & 0\\\\0 & 0 & 0 & 0 & \\frac{1}{3} & 0 & \\frac{1}{3} & 0 & \\frac{1}{3}\\\\0 & 0 & 0 & \\frac{1}{2} & 0 & 0 & 0 & \\frac{1}{2} & 0\\end{matrix}\\right]$$"
      ],
      "text/plain": [
       "⎡ 0   1/2   0    0    0   1/2   0    0    0 ⎤\n",
       "⎢                                           ⎥\n",
       "⎢1/3   0   1/3   0   1/3   0    0    0    0 ⎥\n",
       "⎢                                           ⎥\n",
       "⎢ 0   1/2   0   1/2   0    0    0    0    0 ⎥\n",
       "⎢                                           ⎥\n",
       "⎢ 0    0   1/3   0   1/3   0    0    0   1/3⎥\n",
       "⎢                                           ⎥\n",
       "⎢ 0   1/4   0   1/4   0   1/4   0   1/4   0 ⎥\n",
       "⎢                                           ⎥\n",
       "⎢1/3   0    0    0   1/3   0   1/3   0    0 ⎥\n",
       "⎢                                           ⎥\n",
       "⎢ 0    0    0    0    0   1/2   0   1/2   0 ⎥\n",
       "⎢                                           ⎥\n",
       "⎢ 0    0    0    0   1/3   0   1/3   0   1/3⎥\n",
       "⎢                                           ⎥\n",
       "⎣ 0    0    0   1/2   0    0    0   1/2   0 ⎦"
      ]
     },
     "execution_count": 27,
     "metadata": {},
     "output_type": "execute_result"
    }
   ],
   "source": [
    "maze= Matrix([\n",
    "    [0  ,\tS(1)/2 ,\t 0  ,\t0 ,\t 0  ,\tS(1)/2 ,\t 0  ,\t0 ,\t 0  ],\n",
    "    [S(1)/3 ,\t 0 ,\tS(1)/3 ,\t0 ,\tS(1)/3   ,\t0 ,\t 0  ,\t0 ,\t 0  ],\n",
    "    [0  ,\tS(1)/2,\t 0 ,\tS(1)/2 ,\t 0  ,\t0 ,\t 0  ,\t0 ,\t 0  ],\n",
    "    [0 ,\t 0  ,\tS(1)/3 ,\t0 ,\t S(1)/3  ,\t0 ,\t 0  ,\t0  ,\tS(1)/3 ],\n",
    "    [0  ,\tS(1)/4,\t 0 ,\tS(1)/4,\t  0 ,\tS(1)/4 ,\t 0 ,\tS(1)/4,\t 0  ],\n",
    "    [S(1)/3 ,\t 0  ,\t0  ,\t0  ,\t S(1)/3  ,\t0  ,\tS(1)/3,\t 0 ,\t 0  ],\n",
    "    [0 ,\t 0  ,\t0  ,\t0 ,\t 0   ,\tS(1)/2 ,\t 0 ,\tS(1)/2,\t 0  ],\n",
    "    [0 ,\t 0  ,\t0  ,\t0 ,\tS(1)/3 ,\t0  ,\tS(1)/3,\t 0 ,\tS(1)/3 ],\n",
    "    [0 ,\t 0  ,\t0  ,\tS(1)/2 ,\t 0  ,\t0 ,\t 0 ,\tS(1)/2,\t 0  ],\n",
    "])\n",
    "maze"
   ]
  },
  {
   "cell_type": "code",
   "execution_count": 28,
   "metadata": {},
   "outputs": [
    {
     "data": {
      "text/latex": [
       "$$\\left[\\begin{matrix}\\frac{29}{24} & \\frac{7}{16} & - \\frac{1}{24} & - \\frac{5}{16} & - \\frac{1}{12} & \\frac{7}{16} & - \\frac{1}{24} & - \\frac{5}{16} & - \\frac{7}{24}\\\\\\frac{7}{24} & \\frac{19}{16} & \\frac{7}{24} & - \\frac{1}{16} & \\frac{1}{12} & - \\frac{1}{16} & - \\frac{5}{24} & - \\frac{5}{16} & - \\frac{5}{24}\\\\- \\frac{1}{24} & \\frac{7}{16} & \\frac{29}{24} & \\frac{7}{16} & - \\frac{1}{12} & - \\frac{5}{16} & - \\frac{7}{24} & - \\frac{5}{16} & - \\frac{1}{24}\\\\- \\frac{5}{24} & - \\frac{1}{16} & \\frac{7}{24} & \\frac{19}{16} & \\frac{1}{12} & - \\frac{5}{16} & - \\frac{5}{24} & - \\frac{1}{16} & \\frac{7}{24}\\\\- \\frac{1}{24} & \\frac{1}{16} & - \\frac{1}{24} & \\frac{1}{16} & \\frac{11}{12} & \\frac{1}{16} & - \\frac{1}{24} & \\frac{1}{16} & - \\frac{1}{24}\\\\\\frac{7}{24} & - \\frac{1}{16} & - \\frac{5}{24} & - \\frac{5}{16} & \\frac{1}{12} & \\frac{19}{16} & \\frac{7}{24} & - \\frac{1}{16} & - \\frac{5}{24}\\\\- \\frac{1}{24} & - \\frac{5}{16} & - \\frac{7}{24} & - \\frac{5}{16} & - \\frac{1}{12} & \\frac{7}{16} & \\frac{29}{24} & \\frac{7}{16} & - \\frac{1}{24}\\\\- \\frac{5}{24} & - \\frac{5}{16} & - \\frac{5}{24} & - \\frac{1}{16} & \\frac{1}{12} & - \\frac{1}{16} & \\frac{7}{24} & \\frac{19}{16} & \\frac{7}{24}\\\\- \\frac{7}{24} & - \\frac{5}{16} & - \\frac{1}{24} & \\frac{7}{16} & - \\frac{1}{12} & - \\frac{5}{16} & - \\frac{1}{24} & \\frac{7}{16} & \\frac{29}{24}\\end{matrix}\\right]$$"
      ],
      "text/plain": [
       "⎡ 29                                                          ⎤\n",
       "⎢ ──    7/16   -1/24  -5/16  -1/12  7/16   -1/24  -5/16  -7/24⎥\n",
       "⎢ 24                                                          ⎥\n",
       "⎢                                                             ⎥\n",
       "⎢        19                                                   ⎥\n",
       "⎢7/24    ──    7/24   -1/16  1/12   -1/16  -5/24  -5/16  -5/24⎥\n",
       "⎢        16                                                   ⎥\n",
       "⎢                                                             ⎥\n",
       "⎢               29                                            ⎥\n",
       "⎢-1/24  7/16    ──    7/16   -1/12  -5/16  -7/24  -5/16  -1/24⎥\n",
       "⎢               24                                            ⎥\n",
       "⎢                                                             ⎥\n",
       "⎢                      19                                     ⎥\n",
       "⎢-5/24  -1/16  7/24    ──    1/12   -5/16  -5/24  -1/16  7/24 ⎥\n",
       "⎢                      16                                     ⎥\n",
       "⎢                                                             ⎥\n",
       "⎢                             11                              ⎥\n",
       "⎢-1/24  1/16   -1/24  1/16    ──    1/16   -1/24  1/16   -1/24⎥\n",
       "⎢                             12                              ⎥\n",
       "⎢                                                             ⎥\n",
       "⎢                                    19                       ⎥\n",
       "⎢7/24   -1/16  -5/24  -5/16  1/12    ──    7/24   -1/16  -5/24⎥\n",
       "⎢                                    16                       ⎥\n",
       "⎢                                                             ⎥\n",
       "⎢                                           29                ⎥\n",
       "⎢-1/24  -5/16  -7/24  -5/16  -1/12  7/16    ──    7/16   -1/24⎥\n",
       "⎢                                           24                ⎥\n",
       "⎢                                                             ⎥\n",
       "⎢                                                  19         ⎥\n",
       "⎢-5/24  -5/16  -5/24  -1/16  1/12   -1/16  7/24    ──    7/24 ⎥\n",
       "⎢                                                  16         ⎥\n",
       "⎢                                                             ⎥\n",
       "⎢                                                         29  ⎥\n",
       "⎢-7/24  -5/16  -1/24  7/16   -1/12  -5/16  -1/24  7/16    ──  ⎥\n",
       "⎣                                                         24  ⎦"
      ]
     },
     "execution_count": 28,
     "metadata": {},
     "output_type": "execute_result"
    }
   ],
   "source": [
    "fundamental_matrix(maze)"
   ]
  },
  {
   "cell_type": "code",
   "execution_count": 29,
   "metadata": {},
   "outputs": [
    {
     "data": {
      "text/latex": [
       "$$\\left[\\begin{matrix}6\\\\5\\\\6\\\\5\\\\5\\\\6\\\\5\\\\6\\end{matrix}\\right]$$"
      ],
      "text/plain": [
       "⎡6⎤\n",
       "⎢ ⎥\n",
       "⎢5⎥\n",
       "⎢ ⎥\n",
       "⎢6⎥\n",
       "⎢ ⎥\n",
       "⎢5⎥\n",
       "⎢ ⎥\n",
       "⎢5⎥\n",
       "⎢ ⎥\n",
       "⎢6⎥\n",
       "⎢ ⎥\n",
       "⎢5⎥\n",
       "⎢ ⎥\n",
       "⎣6⎦"
      ]
     },
     "execution_count": 29,
     "metadata": {},
     "output_type": "execute_result"
    }
   ],
   "source": [
    "mfpt_to(maze,4)"
   ]
  },
  {
   "cell_type": "code",
   "execution_count": 30,
   "metadata": {},
   "outputs": [],
   "source": [
    "destination_state=4\n",
    "mr=maze[:,:]\n",
    "mr.col_del(destination_state)\n",
    "mr.row_del(destination_state)"
   ]
  },
  {
   "cell_type": "code",
   "execution_count": 31,
   "metadata": {},
   "outputs": [
    {
     "ename": "IndexError",
     "evalue": "list index out of range",
     "output_type": "error",
     "traceback": [
      "\u001b[0;31m---------------------------------------------------------------------------\u001b[0m",
      "\u001b[0;31mIndexError\u001b[0m                                Traceback (most recent call last)",
      "\u001b[0;32m<ipython-input-31-66714fd94df0>\u001b[0m in \u001b[0;36m<module>\u001b[0;34m\u001b[0m\n\u001b[0;32m----> 1\u001b[0;31m \u001b[0mfundamental_matrix\u001b[0m\u001b[0;34m(\u001b[0m\u001b[0mmr\u001b[0m\u001b[0;34m)\u001b[0m\u001b[0;34m\u001b[0m\u001b[0;34m\u001b[0m\u001b[0m\n\u001b[0m",
      "\u001b[0;32m<ipython-input-22-c215854ef32c>\u001b[0m in \u001b[0;36mfundamental_matrix\u001b[0;34m(P)\u001b[0m\n\u001b[1;32m      8\u001b[0m \u001b[0;32mdef\u001b[0m \u001b[0mfundamental_matrix\u001b[0m\u001b[0;34m(\u001b[0m\u001b[0mP\u001b[0m\u001b[0;34m)\u001b[0m\u001b[0;34m:\u001b[0m\u001b[0;34m\u001b[0m\u001b[0;34m\u001b[0m\u001b[0m\n\u001b[1;32m      9\u001b[0m     \u001b[0md\u001b[0m \u001b[0;34m=\u001b[0m \u001b[0mP\u001b[0m\u001b[0;34m.\u001b[0m\u001b[0mshape\u001b[0m\u001b[0;34m[\u001b[0m\u001b[0;36m0\u001b[0m\u001b[0;34m]\u001b[0m\u001b[0;34m\u001b[0m\u001b[0;34m\u001b[0m\u001b[0m\n\u001b[0;32m---> 10\u001b[0;31m     \u001b[0mw\u001b[0m \u001b[0;34m=\u001b[0m \u001b[0mstationary_state\u001b[0m\u001b[0;34m(\u001b[0m\u001b[0mP\u001b[0m\u001b[0;34m)\u001b[0m\u001b[0;34m\u001b[0m\u001b[0;34m\u001b[0m\u001b[0m\n\u001b[0m\u001b[1;32m     11\u001b[0m     \u001b[0mW\u001b[0m \u001b[0;34m=\u001b[0m \u001b[0mones\u001b[0m\u001b[0;34m(\u001b[0m\u001b[0md\u001b[0m\u001b[0;34m,\u001b[0m\u001b[0;36m1\u001b[0m\u001b[0;34m)\u001b[0m \u001b[0;34m*\u001b[0m \u001b[0mw\u001b[0m\u001b[0;34m.\u001b[0m\u001b[0mT\u001b[0m\u001b[0;34m\u001b[0m\u001b[0;34m\u001b[0m\u001b[0m\n\u001b[1;32m     12\u001b[0m     \u001b[0mZ\u001b[0m \u001b[0;34m=\u001b[0m \u001b[0;34m(\u001b[0m\u001b[0meye\u001b[0m\u001b[0;34m(\u001b[0m\u001b[0md\u001b[0m\u001b[0;34m)\u001b[0m\u001b[0;34m-\u001b[0m\u001b[0mP\u001b[0m\u001b[0;34m+\u001b[0m\u001b[0mW\u001b[0m\u001b[0;34m)\u001b[0m\u001b[0;34m**\u001b[0m\u001b[0;34m-\u001b[0m\u001b[0;36m1\u001b[0m\u001b[0;34m\u001b[0m\u001b[0;34m\u001b[0m\u001b[0m\n",
      "\u001b[0;32m<ipython-input-22-c215854ef32c>\u001b[0m in \u001b[0;36mstationary_state\u001b[0;34m(P)\u001b[0m\n\u001b[1;32m      3\u001b[0m     \u001b[0mw\u001b[0m \u001b[0;34m=\u001b[0m \u001b[0;34m[\u001b[0m\u001b[0mx\u001b[0m\u001b[0;34m[\u001b[0m\u001b[0;36m2\u001b[0m\u001b[0;34m]\u001b[0m\u001b[0;34m[\u001b[0m\u001b[0;36m0\u001b[0m\u001b[0;34m]\u001b[0m \u001b[0;32mfor\u001b[0m \u001b[0mx\u001b[0m \u001b[0;32min\u001b[0m \u001b[0mP\u001b[0m\u001b[0;34m.\u001b[0m\u001b[0mT\u001b[0m\u001b[0;34m.\u001b[0m\u001b[0meigenvects\u001b[0m\u001b[0;34m(\u001b[0m\u001b[0;34m)\u001b[0m \u001b[0;32mif\u001b[0m \u001b[0mx\u001b[0m\u001b[0;34m[\u001b[0m\u001b[0;36m0\u001b[0m\u001b[0;34m]\u001b[0m\u001b[0;34m==\u001b[0m\u001b[0;36m1\u001b[0m\u001b[0;34m]\u001b[0m\u001b[0;34m\u001b[0m\u001b[0;34m\u001b[0m\u001b[0m\n\u001b[1;32m      4\u001b[0m     \u001b[0;31m# Sum to 1\u001b[0m\u001b[0;34m\u001b[0m\u001b[0;34m\u001b[0m\u001b[0;34m\u001b[0m\u001b[0m\n\u001b[0;32m----> 5\u001b[0;31m     \u001b[0mw\u001b[0m \u001b[0;34m=\u001b[0m \u001b[0mw\u001b[0m\u001b[0;34m[\u001b[0m\u001b[0;36m0\u001b[0m\u001b[0;34m]\u001b[0m\u001b[0;34m/\u001b[0m\u001b[0msum\u001b[0m\u001b[0;34m(\u001b[0m\u001b[0mw\u001b[0m\u001b[0;34m[\u001b[0m\u001b[0;36m0\u001b[0m\u001b[0;34m]\u001b[0m\u001b[0;34m)\u001b[0m\u001b[0;34m\u001b[0m\u001b[0;34m\u001b[0m\u001b[0m\n\u001b[0m\u001b[1;32m      6\u001b[0m     \u001b[0;32mreturn\u001b[0m\u001b[0;34m(\u001b[0m\u001b[0mw\u001b[0m\u001b[0;34m)\u001b[0m\u001b[0;34m\u001b[0m\u001b[0;34m\u001b[0m\u001b[0m\n\u001b[1;32m      7\u001b[0m \u001b[0;34m\u001b[0m\u001b[0m\n",
      "\u001b[0;31mIndexError\u001b[0m: list index out of range"
     ]
    }
   ],
   "source": [
    "fundamental_matrix(mr)"
   ]
  },
  {
   "cell_type": "code",
   "execution_count": 32,
   "metadata": {},
   "outputs": [
    {
     "data": {
      "text/latex": [
       "$$\\left[\\begin{matrix}0 & 6 & 15 & 12 & 6 & 6 & 15 & 12 & 18\\\\11 & 0 & 11 & 10 & 5 & 10 & 17 & 12 & 17\\\\15 & 6 & 0 & 6 & 6 & 12 & 18 & 12 & 15\\\\17 & 10 & 11 & 0 & 5 & 12 & 17 & 10 & 11\\\\15 & 9 & 15 & 9 & 0 & 9 & 15 & 9 & 15\\\\11 & 10 & 17 & 12 & 5 & 0 & 11 & 10 & 17\\\\15 & 12 & 18 & 12 & 6 & 6 & 0 & 6 & 15\\\\17 & 12 & 17 & 10 & 5 & 10 & 11 & 0 & 11\\\\18 & 12 & 15 & 6 & 6 & 12 & 15 & 6 & 0\\end{matrix}\\right]$$"
      ],
      "text/plain": [
       "⎡0   6   15  12  6  6   15  12  18⎤\n",
       "⎢                                 ⎥\n",
       "⎢11  0   11  10  5  10  17  12  17⎥\n",
       "⎢                                 ⎥\n",
       "⎢15  6   0   6   6  12  18  12  15⎥\n",
       "⎢                                 ⎥\n",
       "⎢17  10  11  0   5  12  17  10  11⎥\n",
       "⎢                                 ⎥\n",
       "⎢15  9   15  9   0  9   15  9   15⎥\n",
       "⎢                                 ⎥\n",
       "⎢11  10  17  12  5  0   11  10  17⎥\n",
       "⎢                                 ⎥\n",
       "⎢15  12  18  12  6  6   0   6   15⎥\n",
       "⎢                                 ⎥\n",
       "⎢17  12  17  10  5  10  11  0   11⎥\n",
       "⎢                                 ⎥\n",
       "⎣18  12  15  6   6  12  15  6   0 ⎦"
      ]
     },
     "execution_count": 32,
     "metadata": {},
     "output_type": "execute_result"
    }
   ],
   "source": [
    "mfpt_full(maze)"
   ]
  },
  {
   "cell_type": "markdown",
   "metadata": {},
   "source": [
    "# Urn"
   ]
  },
  {
   "cell_type": "code",
   "execution_count": 33,
   "metadata": {},
   "outputs": [
    {
     "data": {
      "text/latex": [
       "$$\\left[\\begin{matrix}0 & 1 & 0 & 0 & 0\\\\\\frac{1}{4} & 0 & \\frac{3}{4} & 0 & 0\\\\0 & \\frac{1}{2} & 0 & \\frac{1}{2} & 0\\\\0 & 0 & \\frac{3}{4} & 0 & \\frac{1}{4}\\\\0 & 0 & 0 & 1 & 0\\end{matrix}\\right]$$"
      ],
      "text/plain": [
       "⎡ 0    1    0    0    0 ⎤\n",
       "⎢                       ⎥\n",
       "⎢1/4   0   3/4   0    0 ⎥\n",
       "⎢                       ⎥\n",
       "⎢ 0   1/2   0   1/2   0 ⎥\n",
       "⎢                       ⎥\n",
       "⎢ 0    0   3/4   0   1/4⎥\n",
       "⎢                       ⎥\n",
       "⎣ 0    0    0    1    0 ⎦"
      ]
     },
     "execution_count": 33,
     "metadata": {},
     "output_type": "execute_result"
    }
   ],
   "source": [
    "eh=Matrix([\n",
    "    [0,4,0,0,0],\n",
    "    [1,0,3,0,0],\n",
    "    [0,2,0,2,0],\n",
    "    [0,0,3,0,1],\n",
    "    [0,0,0,4,0]\n",
    "])/4\n",
    "eh"
   ]
  },
  {
   "cell_type": "code",
   "execution_count": 34,
   "metadata": {},
   "outputs": [
    {
     "data": {
      "text/latex": [
       "$$\\left[\\begin{matrix}0 & 1 & \\frac{8}{3} & \\frac{19}{3} & \\frac{64}{3}\\\\15 & 0 & \\frac{5}{3} & \\frac{16}{3} & \\frac{61}{3}\\\\\\frac{56}{3} & \\frac{11}{3} & 0 & \\frac{11}{3} & \\frac{56}{3}\\\\\\frac{61}{3} & \\frac{16}{3} & \\frac{5}{3} & 0 & 15\\\\\\frac{64}{3} & \\frac{19}{3} & \\frac{8}{3} & 1 & 0\\end{matrix}\\right]$$"
      ],
      "text/plain": [
       "⎡ 0     1    8/3  19/3  64/3⎤\n",
       "⎢                           ⎥\n",
       "⎢ 15    0    5/3  16/3  61/3⎥\n",
       "⎢                           ⎥\n",
       "⎢56/3  11/3   0   11/3  56/3⎥\n",
       "⎢                           ⎥\n",
       "⎢61/3  16/3  5/3   0     15 ⎥\n",
       "⎢                           ⎥\n",
       "⎣64/3  19/3  8/3   1     0  ⎦"
      ]
     },
     "execution_count": 34,
     "metadata": {},
     "output_type": "execute_result"
    }
   ],
   "source": [
    "mfpt_full(eh)"
   ]
  },
  {
   "cell_type": "code",
   "execution_count": 35,
   "metadata": {},
   "outputs": [
    {
     "data": {
      "text/latex": [
       "$$\\left[\\begin{matrix}0 & 1.0 & 2.66666666666667 & 6.33333333333333 & 21.3333333333333\\\\15.0 & 0 & 1.66666666666667 & 5.33333333333333 & 20.3333333333333\\\\18.6666666666667 & 3.66666666666667 & 0 & 3.66666666666667 & 18.6666666666667\\\\20.3333333333333 & 5.33333333333333 & 1.66666666666667 & 0 & 15.0\\\\21.3333333333333 & 6.33333333333333 & 2.66666666666667 & 1.0 & 0\\end{matrix}\\right]$$"
      ],
      "text/plain": [
       "⎡       0                1.0         2.66666666666667  6.33333333333333  21.33\n",
       "⎢                                                                             \n",
       "⎢      15.0               0          1.66666666666667  5.33333333333333  20.33\n",
       "⎢                                                                             \n",
       "⎢18.6666666666667  3.66666666666667         0          3.66666666666667  18.66\n",
       "⎢                                                                             \n",
       "⎢20.3333333333333  5.33333333333333  1.66666666666667         0               \n",
       "⎢                                                                             \n",
       "⎣21.3333333333333  6.33333333333333  2.66666666666667        1.0              \n",
       "\n",
       "33333333333⎤\n",
       "           ⎥\n",
       "33333333333⎥\n",
       "           ⎥\n",
       "66666666667⎥\n",
       "           ⎥\n",
       " 15.0      ⎥\n",
       "           ⎥\n",
       "  0        ⎦"
      ]
     },
     "execution_count": 35,
     "metadata": {},
     "output_type": "execute_result"
    }
   ],
   "source": [
    "sympy.N(mfpt_full(eh))"
   ]
  },
  {
   "cell_type": "markdown",
   "metadata": {},
   "source": [
    "# Flux\n",
    "https://biblioproxy.cnr.it:2114/science/article/pii/S0960077916303009"
   ]
  },
  {
   "cell_type": "code",
   "execution_count": 3,
   "metadata": {},
   "outputs": [
    {
     "data": {
      "image/png": "[encoded data removed]",
      "text/latex": [
       "$$\\left[\\begin{matrix}- p + 1 & p & 0\\\\q & - q - r + 1 & r\\\\0 & 0 & 1\\end{matrix}\\right]$$"
      ],
      "text/plain": [
       "⎡-p + 1      p       0⎤\n",
       "⎢                     ⎥\n",
       "⎢  q     -q - r + 1  r⎥\n",
       "⎢                     ⎥\n",
       "⎣  0         0       1⎦"
      ]
     },
     "execution_count": 3,
     "metadata": {},
     "output_type": "execute_result"
    }
   ],
   "source": [
    "var(\"p q r\")\n",
    "P=Matrix([[1-p,p,0],\n",
    "          [q,1-q-r,r],\n",
    "          [0,0,1]])\n",
    "P"
   ]
  },
  {
   "cell_type": "code",
   "execution_count": 6,
   "metadata": {},
   "outputs": [
    {
     "data": {
      "image/png": "[encoded data removed]",
      "text/latex": [
       "$$\\left[\\begin{matrix}- p + 1 & p\\\\q & - q - r + 1\\end{matrix}\\right]$$"
      ],
      "text/plain": [
       "⎡-p + 1      p     ⎤\n",
       "⎢                  ⎥\n",
       "⎣  q     -q - r + 1⎦"
      ]
     },
     "execution_count": 6,
     "metadata": {},
     "output_type": "execute_result"
    }
   ],
   "source": [
    "Pr=P[0:2,0:2]\n",
    "Pr"
   ]
  },
  {
   "cell_type": "code",
   "execution_count": 9,
   "metadata": {},
   "outputs": [
    {
     "ename": "Exception",
     "evalue": "No eigenvalue 1. Matrix not ergodic?",
     "output_type": "error",
     "traceback": [
      "\u001b[0;31m---------------------------------------------------------------------------\u001b[0m",
      "\u001b[0;31mException\u001b[0m                                 Traceback (most recent call last)",
      "\u001b[0;32m<ipython-input-9-bcc1bcfbdc9a>\u001b[0m in \u001b[0;36m<module>\u001b[0;34m()\u001b[0m\n\u001b[0;32m----> 1\u001b[0;31m \u001b[0mstationary_state\u001b[0m\u001b[0;34m(\u001b[0m\u001b[0mPr\u001b[0m\u001b[0;34m)\u001b[0m\u001b[0;34m\u001b[0m\u001b[0;34m\u001b[0m\u001b[0m\n\u001b[0m",
      "\u001b[0;32m<ipython-input-8-ab10d0f3bd28>\u001b[0m in \u001b[0;36mstationary_state\u001b[0;34m(P)\u001b[0m\n\u001b[1;32m      3\u001b[0m     \u001b[0mw\u001b[0m \u001b[0;34m=\u001b[0m \u001b[0;34m[\u001b[0m\u001b[0mx\u001b[0m\u001b[0;34m[\u001b[0m\u001b[0;36m2\u001b[0m\u001b[0;34m]\u001b[0m\u001b[0;34m[\u001b[0m\u001b[0;36m0\u001b[0m\u001b[0;34m]\u001b[0m \u001b[0;32mfor\u001b[0m \u001b[0mx\u001b[0m \u001b[0;32min\u001b[0m \u001b[0mP\u001b[0m\u001b[0;34m.\u001b[0m\u001b[0mT\u001b[0m\u001b[0;34m.\u001b[0m\u001b[0meigenvects\u001b[0m\u001b[0;34m(\u001b[0m\u001b[0;34m)\u001b[0m \u001b[0;32mif\u001b[0m \u001b[0mx\u001b[0m\u001b[0;34m[\u001b[0m\u001b[0;36m0\u001b[0m\u001b[0;34m]\u001b[0m\u001b[0;34m==\u001b[0m\u001b[0;36m1\u001b[0m\u001b[0;34m]\u001b[0m\u001b[0;34m\u001b[0m\u001b[0;34m\u001b[0m\u001b[0m\n\u001b[1;32m      4\u001b[0m     \u001b[0;32mif\u001b[0m \u001b[0mlen\u001b[0m\u001b[0;34m(\u001b[0m\u001b[0mw\u001b[0m\u001b[0;34m)\u001b[0m\u001b[0;34m==\u001b[0m\u001b[0;36m0\u001b[0m\u001b[0;34m:\u001b[0m\u001b[0;34m\u001b[0m\u001b[0;34m\u001b[0m\u001b[0m\n\u001b[0;32m----> 5\u001b[0;31m         \u001b[0;32mraise\u001b[0m \u001b[0mException\u001b[0m\u001b[0;34m(\u001b[0m\u001b[0;34m\"No eigenvalue 1. Matrix not ergodic?\"\u001b[0m\u001b[0;34m)\u001b[0m\u001b[0;34m\u001b[0m\u001b[0;34m\u001b[0m\u001b[0m\n\u001b[0m\u001b[1;32m      6\u001b[0m     \u001b[0;32melif\u001b[0m \u001b[0mlen\u001b[0m\u001b[0;34m(\u001b[0m\u001b[0mw\u001b[0m\u001b[0;34m)\u001b[0m\u001b[0;34m!=\u001b[0m\u001b[0;36m1\u001b[0m\u001b[0;34m:\u001b[0m\u001b[0;34m\u001b[0m\u001b[0;34m\u001b[0m\u001b[0m\n\u001b[1;32m      7\u001b[0m         \u001b[0;32mraise\u001b[0m \u001b[0mException\u001b[0m\u001b[0;34m(\u001b[0m\u001b[0;34m\"Eigenvalue 1 multiplicity > 1. Not irreducible?\"\u001b[0m\u001b[0;34m)\u001b[0m\u001b[0;34m\u001b[0m\u001b[0;34m\u001b[0m\u001b[0m\n",
      "\u001b[0;31mException\u001b[0m: No eigenvalue 1. Matrix not ergodic?"
     ]
    }
   ],
   "source": [
    "stationary_state(Pr)"
   ]
  },
  {
   "cell_type": "code",
   "execution_count": 34,
   "metadata": {},
   "outputs": [
    {
     "data": {
      "image/png": "[encoded data removed]",
      "text/latex": [
       "$$\\left[\\begin{matrix}\\frac{q + r}{p r} & \\frac{1}{r}\\end{matrix}\\right]$$"
      ],
      "text/plain": [
       "⎡q + r  1⎤\n",
       "⎢─────  ─⎥\n",
       "⎣ p⋅r   r⎦"
      ]
     },
     "execution_count": 34,
     "metadata": {},
     "output_type": "execute_result"
    }
   ],
   "source": [
    "mubar1 = Matrix([1, 0]).T * (eye(*Pr.shape)-Pr)**-1\n",
    "mubar1 = simplify(mubar1)\n",
    "mubar1"
   ]
  },
  {
   "cell_type": "code",
   "execution_count": 35,
   "metadata": {},
   "outputs": [
    {
     "data": {
      "image/png": "[encoded data removed]",
      "text/latex": [
       "$$\\left[\\begin{matrix}\\frac{q}{p r} & \\frac{1}{r}\\end{matrix}\\right]$$"
      ],
      "text/plain": [
       "⎡ q   1⎤\n",
       "⎢───  ─⎥\n",
       "⎣p⋅r  r⎦"
      ]
     },
     "execution_count": 35,
     "metadata": {},
     "output_type": "execute_result"
    }
   ],
   "source": [
    "mubar2 = Matrix([0, 1]).T * (eye(*Pr.shape)-Pr)**-1\n",
    "mubar2 = simplify(mubar2)\n",
    "mubar2"
   ]
  },
  {
   "cell_type": "code",
   "execution_count": 36,
   "metadata": {},
   "outputs": [
    {
     "data": {
      "image/png": "[encoded data removed]",
      "text/latex": [
       "$$\\left[\\begin{matrix}\\frac{q + r}{p r} & \\frac{1}{r}\\\\\\frac{q}{p r} & \\frac{1}{r}\\end{matrix}\\right]$$"
      ],
      "text/plain": [
       "⎡q + r  1⎤\n",
       "⎢─────  ─⎥\n",
       "⎢ p⋅r   r⎥\n",
       "⎢        ⎥\n",
       "⎢  q    1⎥\n",
       "⎢ ───   ─⎥\n",
       "⎣ p⋅r   r⎦"
      ]
     },
     "execution_count": 36,
     "metadata": {},
     "output_type": "execute_result"
    }
   ],
   "source": [
    "simplify((eye(*Pr.shape)-Pr)**-1)"
   ]
  },
  {
   "cell_type": "code",
   "execution_count": 44,
   "metadata": {},
   "outputs": [
    {
     "data": {
      "image/png": "[encoded data removed]",
      "text/latex": [
       "$$\\left[\\begin{matrix}20.0 & 10.0\\end{matrix}\\right]$$"
      ],
      "text/plain": [
       "[20.0  10.0]"
      ]
     },
     "execution_count": 44,
     "metadata": {},
     "output_type": "execute_result"
    }
   ],
   "source": [
    "ex1=[(p,1/10),(q,1/10),(r,1/10)]\n",
    "mubar1.subs(ex1)"
   ]
  },
  {
   "cell_type": "code",
   "execution_count": 46,
   "metadata": {},
   "outputs": [
    {
     "data": {
      "image/png": "[encoded data removed]",
      "text/latex": [
       "$$\\left[\\begin{matrix}\\frac{q + r}{p r} & 0 & 0\\\\0 & \\frac{1}{r} & 0\\\\0 & 0 & 0\\end{matrix}\\right]$$"
      ],
      "text/plain": [
       "⎡q + r      ⎤\n",
       "⎢─────  0  0⎥\n",
       "⎢ p⋅r       ⎥\n",
       "⎢           ⎥\n",
       "⎢       1   ⎥\n",
       "⎢  0    ─  0⎥\n",
       "⎢       r   ⎥\n",
       "⎢           ⎥\n",
       "⎣  0    0  0⎦"
      ]
     },
     "execution_count": 46,
     "metadata": {},
     "output_type": "execute_result"
    }
   ],
   "source": [
    "mubar1mat = diag(*mubar1,0)\n",
    "mubar1mat"
   ]
  },
  {
   "cell_type": "code",
   "execution_count": 47,
   "metadata": {},
   "outputs": [
    {
     "data": {
      "image/png": "[encoded data removed]",
      "text/latex": [
       "$$\\left[\\begin{matrix}- \\frac{\\left(p - 1\\right) \\left(q + r\\right)}{p r} & \\frac{q + r}{r} & 0\\\\\\frac{q}{r} & \\frac{- q - r + 1}{r} & 1\\\\0 & 0 & 0\\end{matrix}\\right]$$"
      ],
      "text/plain": [
       "⎡-(p - 1)⋅(q + r)     q + r      ⎤\n",
       "⎢─────────────────    ─────     0⎥\n",
       "⎢       p⋅r             r        ⎥\n",
       "⎢                                ⎥\n",
       "⎢        q          -q - r + 1   ⎥\n",
       "⎢        ─          ──────────  1⎥\n",
       "⎢        r              r        ⎥\n",
       "⎢                                ⎥\n",
       "⎣        0              0       0⎦"
      ]
     },
     "execution_count": 47,
     "metadata": {},
     "output_type": "execute_result"
    }
   ],
   "source": [
    "fflux = simplify(mubar1mat * P)\n",
    "fflux"
   ]
  },
  {
   "cell_type": "code",
   "execution_count": 48,
   "metadata": {},
   "outputs": [
    {
     "data": {
      "image/png": "[encoded data removed]",
      "text/latex": [
       "$$\\left[\\begin{matrix}0 & 1 & 0\\\\-1 & 0 & 1\\\\0 & -1 & 0\\end{matrix}\\right]$$"
      ],
      "text/plain": [
       "⎡0   1   0⎤\n",
       "⎢         ⎥\n",
       "⎢-1  0   1⎥\n",
       "⎢         ⎥\n",
       "⎣0   -1  0⎦"
      ]
     },
     "execution_count": 48,
     "metadata": {},
     "output_type": "execute_result"
    }
   ],
   "source": [
    "# Consider the upper diagonal only\n",
    "simplify(fflux-fflux.T)"
   ]
  },
  {
   "cell_type": "code",
   "execution_count": 49,
   "metadata": {},
   "outputs": [
    {
     "data": {
      "image/png": "[encoded data removed]",
      "text/latex": [
       "$$\\left[\\begin{matrix}18.0 & 2.0 & 0\\\\1.0 & 8.0 & 1\\\\0 & 0 & 0\\end{matrix}\\right]$$"
      ],
      "text/plain": [
       "⎡18.0  2.0  0⎤\n",
       "⎢            ⎥\n",
       "⎢1.0   8.0  1⎥\n",
       "⎢            ⎥\n",
       "⎣ 0     0   0⎦"
      ]
     },
     "execution_count": 49,
     "metadata": {},
     "output_type": "execute_result"
    }
   ],
   "source": [
    "fflux.subs(ex1)"
   ]
  },
  {
   "cell_type": "markdown",
   "metadata": {},
   "source": [
    "http://www.emma-project.org/v2.4/generated/tpt.html"
   ]
  },
  {
   "cell_type": "code",
   "execution_count": 52,
   "metadata": {},
   "outputs": [
    {
     "data": {
      "image/png": "[encoded data removed]",
      "text/latex": [
       "$$\\left[\\begin{matrix}0.8 & 0.15 & 0.05 & 0.0 & 0.0\\\\0.1 & 0.75 & 0.05 & 0.05 & 0.05\\\\0.05 & 0.1 & 0.8 & 0.0 & 0.05\\\\0.0 & 0.2 & 0.0 & 0.8 & 0.0\\\\0.0 & 0.02 & 0.02 & 0.0 & 0.96\\end{matrix}\\right]$$"
      ],
      "text/plain": [
       "⎡0.8   0.15  0.05  0.0   0.0 ⎤\n",
       "⎢                            ⎥\n",
       "⎢0.1   0.75  0.05  0.05  0.05⎥\n",
       "⎢                            ⎥\n",
       "⎢0.05  0.1   0.8   0.0   0.05⎥\n",
       "⎢                            ⎥\n",
       "⎢0.0   0.2   0.0   0.8   0.0 ⎥\n",
       "⎢                            ⎥\n",
       "⎣0.0   0.02  0.02  0.0   0.96⎦"
      ]
     },
     "execution_count": 52,
     "metadata": {},
     "output_type": "execute_result"
    }
   ],
   "source": [
    "P=Matrix([[0.8,  0.15, 0.05,  0.0,  0.0],\n",
    "              [0.1,  0.75, 0.05, 0.05, 0.05],\n",
    "              [0.05,  0.1,  0.8,  0.0,  0.05],\n",
    "              [0.0,  0.2, 0.0,  0.8,  0.0],\n",
    "              [0.0,  0.02, 0.02, 0.0,  0.96]])\n",
    "P"
   ]
  },
  {
   "cell_type": "code",
   "execution_count": 53,
   "metadata": {},
   "outputs": [
    {
     "data": {
      "image/png": "[encoded data removed]",
      "text/latex": [
       "$$\\left[\\begin{matrix}13.3333333333333 & 13.3333333333333 & 6.66666666666667 & 3.33333333333333\\end{matrix}\\right]$$"
      ],
      "text/plain": [
       "[13.3333333333333  13.3333333333333  6.66666666666667  3.33333333333333]"
      ]
     },
     "execution_count": 53,
     "metadata": {},
     "output_type": "execute_result"
    }
   ],
   "source": [
    "Pr=P[0:4,0:4]\n",
    "mubar1 = Matrix([1, 0, 0, 0]).T * (eye(*Pr.shape)-Pr)**-1\n",
    "mubar1"
   ]
  },
  {
   "cell_type": "code",
   "execution_count": 54,
   "metadata": {},
   "outputs": [
    {
     "data": {
      "image/png": "[encoded data removed]",
      "text/latex": [
       "$$\\left[\\begin{matrix}10.6666666666667 & 2.0 & 0.666666666666667 & 0 & 0\\\\1.33333333333333 & 10.0 & 0.666666666666667 & 0.666666666666667 & 0.666666666666667\\\\0.333333333333334 & 0.666666666666668 & 5.33333333333334 & 0 & 0.333333333333334\\\\0 & 0.666666666666667 & 0 & 2.66666666666667 & 0\\\\0 & 0 & 0 & 0 & 0\\end{matrix}\\right]$$"
      ],
      "text/plain": [
       "⎡10.6666666666667          2.0         0.666666666666667          0           \n",
       "⎢                                                                             \n",
       "⎢1.33333333333333         10.0         0.666666666666667  0.666666666666667  0\n",
       "⎢                                                                             \n",
       "⎢0.333333333333334  0.666666666666668  5.33333333333334           0          0\n",
       "⎢                                                                             \n",
       "⎢        0          0.666666666666667          0          2.66666666666667    \n",
       "⎢                                                                             \n",
       "⎣        0                  0                  0                  0           \n",
       "\n",
       "       0        ⎤\n",
       "                ⎥\n",
       ".666666666666667⎥\n",
       "                ⎥\n",
       ".333333333333334⎥\n",
       "                ⎥\n",
       "       0        ⎥\n",
       "                ⎥\n",
       "       0        ⎦"
      ]
     },
     "execution_count": 54,
     "metadata": {},
     "output_type": "execute_result"
    }
   ],
   "source": [
    "mubar1mat = diag(*mubar1,0)\n",
    "fflux = mubar1mat * P\n",
    "fflux\n"
   ]
  },
  {
   "cell_type": "code",
   "execution_count": 58,
   "metadata": {},
   "outputs": [
    {
     "data": {
      "image/png": "[encoded data removed]",
      "text/latex": [
       "$$\\left[\\begin{matrix}0 & 0.667 & 0.333 & 0 & 0\\\\-0.667 & 0 & -2.22 \\cdot 10^{-16} & 5.55 \\cdot 10^{-16} & 0.667\\\\-0.333 & 2.22 \\cdot 10^{-16} & 0 & 0 & 0.333\\\\0 & -5.55 \\cdot 10^{-16} & 0 & 0 & 0\\\\0 & -0.667 & -0.333 & 0 & 0\\end{matrix}\\right]$$"
      ],
      "text/plain": [
       "⎡  0       0.667      0.333       0        0  ⎤\n",
       "⎢                                             ⎥\n",
       "⎢-0.667      0      -2.22e-16  5.55e-16  0.667⎥\n",
       "⎢                                             ⎥\n",
       "⎢-0.333  2.22e-16       0         0      0.333⎥\n",
       "⎢                                             ⎥\n",
       "⎢  0     -5.55e-16      0         0        0  ⎥\n",
       "⎢                                             ⎥\n",
       "⎣  0      -0.667     -0.333       0        0  ⎦"
      ]
     },
     "execution_count": 58,
     "metadata": {},
     "output_type": "execute_result"
    }
   ],
   "source": [
    "N(fflux-fflux.T,3)"
   ]
  },
  {
   "cell_type": "markdown",
   "metadata": {},
   "source": [
    "http://ftp.mi.fu-berlin.de/pub/ag-cmb/pyemma-2018-msm-tpt.pdf"
   ]
  },
  {
   "cell_type": "code",
   "execution_count": 63,
   "metadata": {},
   "outputs": [
    {
     "data": {
      "image/png": "[encoded data removed]",
      "text/latex": [
       "$$\\left[\\begin{matrix}0.85 & 0.1 & 0.05 & 0 & 0\\\\0.1 & 0.75 & 0.05 & 0.05 & 0.05\\\\0.05 & 0.1 & 0.8 & 0 & 0.05\\\\0 & 0.2 & 0 & 0.8 & 0\\\\0 & 0.02 & 0.02 & 0 & 0.96\\end{matrix}\\right]$$"
      ],
      "text/plain": [
       "⎡0.85  0.1   0.05   0     0  ⎤\n",
       "⎢                            ⎥\n",
       "⎢0.1   0.75  0.05  0.05  0.05⎥\n",
       "⎢                            ⎥\n",
       "⎢0.05  0.1   0.8    0    0.05⎥\n",
       "⎢                            ⎥\n",
       "⎢ 0    0.2    0    0.8    0  ⎥\n",
       "⎢                            ⎥\n",
       "⎣ 0    0.02  0.02   0    0.96⎦"
      ]
     },
     "execution_count": 63,
     "metadata": {},
     "output_type": "execute_result"
    }
   ],
   "source": [
    "P=Matrix([[ .85 , .1, .05, 0, 0],\n",
    "         [ .1, .75, .05, .05, .05],\n",
    "         [.05,.1,.8,0,.05],\n",
    "         [0,.2,0,.8,0],\n",
    "         [0,.02,.02,0,.96]])\n",
    "P"
   ]
  },
  {
   "cell_type": "code",
   "execution_count": 64,
   "metadata": {},
   "outputs": [
    {
     "data": {
      "image/png": "[encoded data removed]",
      "text/latex": [
       "$$\\left[\\begin{matrix}1.0\\\\1.0\\\\1.0\\\\1.0\\\\1.0\\end{matrix}\\right]$$"
      ],
      "text/plain": [
       "⎡1.0⎤\n",
       "⎢   ⎥\n",
       "⎢1.0⎥\n",
       "⎢   ⎥\n",
       "⎢1.0⎥\n",
       "⎢   ⎥\n",
       "⎢1.0⎥\n",
       "⎢   ⎥\n",
       "⎣1.0⎦"
      ]
     },
     "execution_count": 64,
     "metadata": {},
     "output_type": "execute_result"
    }
   ],
   "source": [
    "P*ones(5,1)"
   ]
  },
  {
   "cell_type": "code",
   "execution_count": null,
   "metadata": {},
   "outputs": [],
   "source": []
  }
 ],
 "metadata": {
  "kernelspec": {
   "display_name": "Python 3",
   "language": "python",
   "name": "python3"
  },
  "language_info": {
   "codemirror_mode": {
    "name": "ipython",
    "version": 3
   },
   "file_extension": ".py",
   "mimetype": "text/x-python",
   "name": "python",
   "nbconvert_exporter": "python",
   "pygments_lexer": "ipython3",
   "version": "3.6.8"
  }
 },
 "nbformat": 4,
 "nbformat_minor": 2
}
